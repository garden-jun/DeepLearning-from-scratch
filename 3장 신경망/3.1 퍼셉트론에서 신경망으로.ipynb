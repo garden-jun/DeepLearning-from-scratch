{
  "nbformat": 4,
  "nbformat_minor": 0,
  "metadata": {
    "colab": {
      "name": "3.1 퍼셉트론에서 신경망으로.ipynb",
      "provenance": [],
      "collapsed_sections": [],
      "authorship_tag": "ABX9TyMRT8+P8edSzl56VnLcQ83c",
      "include_colab_link": true
    },
    "kernelspec": {
      "name": "python3",
      "display_name": "Python 3"
    },
    "language_info": {
      "name": "python"
    }
  },
  "cells": [
    {
      "cell_type": "markdown",
      "metadata": {
        "id": "view-in-github",
        "colab_type": "text"
      },
      "source": [
        "<a href=\"https://colab.research.google.com/github/garden-jun/DeepLearning-from-scratch/blob/main/3%EC%9E%A5%20%EC%8B%A0%EA%B2%BD%EB%A7%9D/3.1%20%ED%8D%BC%EC%85%89%ED%8A%B8%EB%A1%A0%EC%97%90%EC%84%9C%20%EC%8B%A0%EA%B2%BD%EB%A7%9D%EC%9C%BC%EB%A1%9C.ipynb\" target=\"_parent\"><img src=\"https://colab.research.google.com/assets/colab-badge.svg\" alt=\"Open In Colab\"/></a>"
      ]
    },
    {
      "cell_type": "markdown",
      "source": [
        "# **3.1.1 신경망의 예**\n",
        "\n",
        "이전에 배운 퍼셉트론에서의 0층을 **입력층**, 1층을 **은닉층**, 2층을 **출력층** 이라고 생각하자\n",
        "\n",
        "은닉층의 뉴런은 입력층이나 출력층과 달리 사람 눈에는 보이지 않는다."
      ],
      "metadata": {
        "id": "GO7A0Z4Xo0vG"
      }
    }
  ]
}